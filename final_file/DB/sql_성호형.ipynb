{
 "cells": [
  {
   "cell_type": "code",
   "execution_count": 26,
   "id": "94080dab-b95a-4645-b8f1-9cd9ad4bf70f",
   "metadata": {
    "tags": []
   },
   "outputs": [],
   "source": [
    "import pandas as pd\n",
    "import pymysql\n",
    "from sqlalchemy import create_engine, text\n",
    "\n",
    "damage = pd.read_csv('damage.csv', encoding='utf-8')\n",
    "Electricity_production_unit_price = pd.read_csv('Electricity_production_unit_price.csv', encoding='utf-8')\n",
    "sales_price = pd.read_csv('sales_price.csv', encoding='utf-8')\n",
    "sales_revenue_by_use = pd.read_csv('sales_revenue_by_use.csv', encoding='utf-8')\n",
    "power_generation_cost = pd.read_csv('power_generation_cost.csv', encoding='utf-8')\n",
    "region = pd.read_csv('region.csv', encoding='utf-8')"
   ]
  },
  {
   "cell_type": "code",
   "execution_count": 27,
   "id": "86285331-b134-4c6d-b5e5-6620892bcf93",
   "metadata": {
    "tags": []
   },
   "outputs": [],
   "source": [
    "protocol =\"mysql+pymysql://\"\n",
    "user = \"root\"\n",
    "password = \"1234\"\n",
    "host = \"localhost\"\n",
    "port = \"3306\"\n",
    "db = \"miniproject\"\n",
    "con_str = f\"{protocol}{user}:{password}@{host}:{port}/{db}\" \n",
    "conn = create_engine(con_str)"
   ]
  },
  {
   "cell_type": "code",
   "execution_count": 28,
   "id": "5a7b0e20-dd60-4a01-9090-c6a53543ad12",
   "metadata": {
    "tags": []
   },
   "outputs": [
    {
     "data": {
      "text/plain": [
       "<sqlalchemy.engine.cursor.LegacyCursorResult at 0x2bcf4f8ac90>"
      ]
     },
     "execution_count": 28,
     "metadata": {},
     "output_type": "execute_result"
    }
   ],
   "source": [
    "sql_stmt = \"\"\"\n",
    "CREATE TABLE `Electricity_production_unit_price` (\n",
    "\t`기간`\tyear not null PRIMARY KEY, \n",
    "\t`원자력`\tint\tNULL,\n",
    "\t`유연탄`\tint\tNULL,\n",
    "\t`무연탄`\tint\tNULL,\n",
    "\t`유류`\tint\tNULL,\n",
    "\t`LNG`\tint\tNULL,\n",
    "\t`양수`\tint\tNULL,\n",
    "\t`연료전지`\tint\tNULL,\n",
    "\t`석탄가스화`\tint\tNULL,\n",
    "\t`태양`\tint\tNULL,\n",
    "\t`풍력`\tint\tNULL,\n",
    "\t`수력`\tint\tNULL,\n",
    "\t`해양`\tint\tNULL,\n",
    "\t`바이오`\tint\tNULL,\n",
    "\t`폐기물`\tint\tNULL,\n",
    "\t`기타`\tint\tNULL,\n",
    "\t`전기생산단가평균`\tint\tNOT NULL\n",
    ");\n",
    "\"\"\"\n",
    "conn.execute(sql_stmt)"
   ]
  },
  {
   "cell_type": "code",
   "execution_count": 29,
   "id": "c66494de-19de-4017-89ce-b97a50794b86",
   "metadata": {
    "tags": []
   },
   "outputs": [
    {
     "data": {
      "text/plain": [
       "<sqlalchemy.engine.cursor.LegacyCursorResult at 0x2bcf4fee1d0>"
      ]
     },
     "execution_count": 29,
     "metadata": {},
     "output_type": "execute_result"
    }
   ],
   "source": [
    "sql_stmt = \"\"\"\n",
    "CREATE TABLE `sales_revenue_by_use` (\n",
    "\t`기간`\tyear NOT NULL PRIMARY KEY,\n",
    "\t`주택용`\tBIGint\tNULL,\n",
    "\t`일반용`\tBIGint\tNULL,\n",
    "    `교육용`\tBIGint\tNULL,\n",
    "\t`산업용`\tBIGint\tNULL,\n",
    "\t`농사용`\tBIGint\tNULL,\n",
    "\t`가로등`\tBIGint\tNULL,\n",
    "\t`심야용`\tBIGint\tNULL,\n",
    "\t`전기판매수입` BIGint\tNOT NULL\n",
    ");\n",
    "\n",
    "\"\"\"\n",
    "conn.execute(sql_stmt)"
   ]
  },
  {
   "cell_type": "code",
   "execution_count": 30,
   "id": "574a2dd4-58dc-4d48-b1f7-57a366168623",
   "metadata": {
    "tags": []
   },
   "outputs": [
    {
     "data": {
      "text/plain": [
       "<sqlalchemy.engine.cursor.LegacyCursorResult at 0x2bcf506dfd0>"
      ]
     },
     "execution_count": 30,
     "metadata": {},
     "output_type": "execute_result"
    }
   ],
   "source": [
    "sql_stmt = \"\"\"\n",
    "CREATE TABLE `region` (\n",
    "\t`기간`\tyear\tNOT NULL PRIMARY KEY,\n",
    "\t`서울`\tint\tNULL,\n",
    "\t`부산`\tint\tNULL,\n",
    "\t`대구`\tint\tNULL,\n",
    "\t`인천`\tint\tNULL,\n",
    "\t`광주`\tint\tNULL,\n",
    "\t`대전`\tint\tNULL,\n",
    "\t`울산`\tint\tNULL,\n",
    "\t`세종`\tint\tNULL,\n",
    "\t`경기`\tint\tNULL,\n",
    "\t`강원`\tint\tNULL,\n",
    "\t`충북`\tint\tNULL,\n",
    "\t`충남`\tint\tNULL,\n",
    "\t`전북`\tint\tNULL,\n",
    "\t`전남`\tint\tNULL,\n",
    "\t`경북`\tint\tNULL,\n",
    "\t`경남`\tint\tNULL,\n",
    "\t`제주`\tint\tNULL,\n",
    "\t`발전량합계`\tint\tNOT NULL\n",
    ");\n",
    "\"\"\"\n",
    "conn.execute(sql_stmt)"
   ]
  },
  {
   "cell_type": "code",
   "execution_count": 31,
   "id": "7e63a6f6-fccc-4ad6-87d0-7fe6e08a8427",
   "metadata": {
    "tags": []
   },
   "outputs": [
    {
     "data": {
      "text/plain": [
       "<sqlalchemy.engine.cursor.LegacyCursorResult at 0x2bcf4f3c610>"
      ]
     },
     "execution_count": 31,
     "metadata": {},
     "output_type": "execute_result"
    }
   ],
   "source": [
    "sql_stmt = \"\"\"\n",
    "CREATE TABLE `sales_price` (\n",
    "\t`기간`\tyear\tnot NULL primary key,\n",
    "\t`평균금액`\tint\tNOT NULL\n",
    ");\n",
    "\n",
    "\"\"\"\n",
    "conn.execute(sql_stmt)"
   ]
  },
  {
   "cell_type": "code",
   "execution_count": 32,
   "id": "9e3fb0ea-5cd9-4b64-a224-5dd3a8234d46",
   "metadata": {
    "tags": []
   },
   "outputs": [
    {
     "data": {
      "text/plain": [
       "<sqlalchemy.engine.cursor.LegacyCursorResult at 0x2bcf506fa50>"
      ]
     },
     "execution_count": 32,
     "metadata": {},
     "output_type": "execute_result"
    }
   ],
   "source": [
    "sql_stmt = \"\"\"\n",
    "CREATE TABLE Damage (\n",
    "    `기간` year NOT NULL ,\n",
    "\t`손해금액` BIGINT NULL,\t\t\n",
    "    `IND`\tINT not null PRIMARY KEY\n",
    ");\n",
    "\n",
    "\"\"\"\n",
    "conn.execute(sql_stmt)"
   ]
  },
  {
   "cell_type": "code",
   "execution_count": 33,
   "id": "b941aebc-3e33-4bea-850a-bdd479a89f87",
   "metadata": {
    "tags": []
   },
   "outputs": [
    {
     "data": {
      "text/plain": [
       "<sqlalchemy.engine.cursor.LegacyCursorResult at 0x2bcf51aa210>"
      ]
     },
     "execution_count": 33,
     "metadata": {},
     "output_type": "execute_result"
    }
   ],
   "source": [
    "sql_stmt = \"\"\"\n",
    "CREATE TABLE `power_generation_cost` (\n",
    "\t`기간` YEAR\tNOT NULL,\n",
    "\t`발전비용` BIGINT NULL,\n",
    "\t`IND`\tINT not null PRIMARY KEY\t\n",
    ");\n",
    "\n",
    "\"\"\"\n",
    "conn.execute(sql_stmt)"
   ]
  },
  {
   "cell_type": "code",
   "execution_count": 36,
   "id": "3d8deded-df6c-4bf0-bba0-fa38fc7cc297",
   "metadata": {
    "tags": []
   },
   "outputs": [
    {
     "data": {
      "text/plain": [
       "<sqlalchemy.engine.cursor.LegacyCursorResult at 0x2bcf516a390>"
      ]
     },
     "execution_count": 36,
     "metadata": {},
     "output_type": "execute_result"
    }
   ],
   "source": [
    "sql = \"\"\"\n",
    "ALTER TABLE `Damage` ADD CONSTRAINT `FK_damage_year` FOREIGN KEY (`기간`) REFERENCES Electricity_production_unit_price (`기간`);\n",
    "\"\"\"\n",
    "conn.execute(sql)"
   ]
  },
  {
   "cell_type": "code",
   "execution_count": 37,
   "id": "4e2563d3-d8b0-414f-8b8d-4adcfa594e1a",
   "metadata": {
    "tags": []
   },
   "outputs": [
    {
     "data": {
      "text/plain": [
       "<sqlalchemy.engine.cursor.LegacyCursorResult at 0x2bcf5138310>"
      ]
     },
     "execution_count": 37,
     "metadata": {},
     "output_type": "execute_result"
    }
   ],
   "source": [
    "sql = \"\"\"\n",
    "ALTER TABLE `power_generation_cost` ADD CONSTRAINT `FK_power_generation_cost_year` FOREIGN KEY (`기간`) REFERENCES Electricity_production_unit_price (`기간`);\n",
    "\"\"\"\n",
    "conn.execute(sql)"
   ]
  },
  {
   "cell_type": "code",
   "execution_count": 38,
   "id": "6728d381-db9f-4583-8294-12d94562d92a",
   "metadata": {
    "tags": []
   },
   "outputs": [
    {
     "data": {
      "text/plain": [
       "<sqlalchemy.engine.cursor.LegacyCursorResult at 0x2bcf51a9a50>"
      ]
     },
     "execution_count": 38,
     "metadata": {},
     "output_type": "execute_result"
    }
   ],
   "source": [
    "sql = \"\"\"\n",
    "ALTER TABLE `region` ADD CONSTRAINT `FK_region_year` FOREIGN KEY (`기간`) REFERENCES Electricity_production_unit_price (`기간`);\n",
    "\"\"\"\n",
    "conn.execute(sql)"
   ]
  },
  {
   "cell_type": "code",
   "execution_count": 39,
   "id": "7bb01a41-223a-4080-b73c-bfcd4d02e230",
   "metadata": {
    "tags": []
   },
   "outputs": [
    {
     "data": {
      "text/plain": [
       "<sqlalchemy.engine.cursor.LegacyCursorResult at 0x2bcf513aad0>"
      ]
     },
     "execution_count": 39,
     "metadata": {},
     "output_type": "execute_result"
    }
   ],
   "source": [
    "sql = \"\"\"\n",
    "ALTER TABLE `sales_revenue_by_use` ADD CONSTRAINT `FK_sales_revenue_by_use_year` FOREIGN KEY (`기간`) REFERENCES Electricity_production_unit_price (`기간`);\n",
    "\"\"\"\n",
    "conn.execute(sql)"
   ]
  },
  {
   "cell_type": "code",
   "execution_count": null,
   "id": "87029910-9e1e-4e98-93e9-43b31a901714",
   "metadata": {},
   "outputs": [],
   "source": [
    "sql = \"\"\"\n",
    "insert into Electricity_production_unit_price(\n",
    "기간,\n",
    "유연탄,\n",
    "무연탄,\n",
    "유류,\n",
    "LNG,\n",
    "양수,\n",
    "연료전지,\n",
    "석탄가스화,\n",
    "태양,\n",
    "풍력,\n",
    "수력,\n",
    "해양,\n",
    "바이오,\n",
    "폐기물,\n",
    "기타,\n",
    "전기생산단가평균\n",
    ") values(\n",
    ":기간,\n",
    ":유연탄,\n",
    ":무연탄,\n",
    ":유류,\n",
    ":LNG,\n",
    ":양수,\n",
    ":연료전지,\n",
    ":석탄가스화,\n",
    ":태양,\n",
    ":풍력,\n",
    ":수력,\n",
    ":해양,\n",
    ":바이오,\n",
    ":폐기물,\n",
    ":기타,\n",
    ":전기생산단가평균)\n",
    "\"\"\"\n",
    "for param in Electricity_production_unit_price.to_dict('records'):\n",
    "    conn.execute(text(sql),param)"
   ]
  },
  {
   "cell_type": "code",
   "execution_count": 45,
   "id": "746af54b-6b66-47f1-9c60-445fe1c23aec",
   "metadata": {
    "tags": []
   },
   "outputs": [],
   "source": [
    "sql = \"\"\"\n",
    "insert into Damage(\n",
    "기간,\n",
    "손해금액,\n",
    "IND\n",
    ") values(\n",
    ":기간,\n",
    ":손해금액,\n",
    ":ind\n",
    ")\n",
    "\"\"\"\n",
    "for param in damage.to_dict('records'):\n",
    "    conn.execute(text(sql),param)"
   ]
  },
  {
   "cell_type": "code",
   "execution_count": 46,
   "id": "8909a379-95ae-4cf1-89c7-815434805d4d",
   "metadata": {
    "tags": []
   },
   "outputs": [],
   "source": [
    "sql = \"\"\"\n",
    "insert into power_generation_cost(\n",
    "기간,\n",
    "발전비용,\n",
    "IND\n",
    ") values(\n",
    ":기간,\n",
    ":발전비용,\n",
    ":ind\n",
    ")\n",
    "\"\"\"\n",
    "for param in power_generation_cost.to_dict('records'):\n",
    "    conn.execute(text(sql),param)"
   ]
  },
  {
   "cell_type": "code",
   "execution_count": 47,
   "id": "a5e2d4ef-8366-4a8e-a016-c69ae49095dd",
   "metadata": {
    "tags": []
   },
   "outputs": [],
   "source": [
    "sql = \"\"\"\n",
    "insert into region(\n",
    "기간,\n",
    "서울,\n",
    "부산,\n",
    "대구,\n",
    "인천,\n",
    "광주,\n",
    "대전,\n",
    "울산,\n",
    "세종,\n",
    "경기,\n",
    "강원,\n",
    "충북,\n",
    "충남,\n",
    "전북,\n",
    "전남,\n",
    "경북,\n",
    "경남,\n",
    "제주,\n",
    "발전량합계\n",
    ") values(\n",
    ":기간,\n",
    ":서울,\n",
    ":부산,\n",
    ":대구,\n",
    ":인천,\n",
    ":광주,\n",
    ":대전,\n",
    ":울산,\n",
    ":세종,\n",
    ":경기,\n",
    ":강원,\n",
    ":충북,\n",
    ":충남,\n",
    ":전북,\n",
    ":전남,\n",
    ":경북,\n",
    ":경남,\n",
    ":제주,\n",
    ":발전량합계\n",
    ")\n",
    "\"\"\"\n",
    "for param in region.to_dict('records'):\n",
    "    conn.execute(text(sql),param)"
   ]
  },
  {
   "cell_type": "code",
   "execution_count": 48,
   "id": "305be191-4c9d-4cad-8df0-71ef8a50a946",
   "metadata": {
    "tags": []
   },
   "outputs": [],
   "source": [
    "sql = \"\"\"\n",
    "insert into sales_price(\n",
    "기간,\n",
    "평균금액\n",
    ") values(\n",
    ":기간,\n",
    ":평균금액\n",
    ")\n",
    "\"\"\"\n",
    "for param in sales_price.to_dict('records'):\n",
    "    conn.execute(text(sql),param)"
   ]
  },
  {
   "cell_type": "code",
   "execution_count": 49,
   "id": "099b1c1f-86be-48b9-916f-46490d4457e0",
   "metadata": {
    "tags": []
   },
   "outputs": [],
   "source": [
    "sql = \"\"\"\n",
    "insert into sales_revenue_by_use(\n",
    "기간,\n",
    "주택용,\n",
    "일반용,\n",
    "교육용,\n",
    "산업용,\n",
    "농사용,\n",
    "가로등,\n",
    "심야용,\n",
    "전기판매수입\n",
    ") values(\n",
    ":기간,\n",
    ":주택용,\n",
    ":일반용,\n",
    ":교육용,\n",
    ":산업용,\n",
    ":농사용,\n",
    ":가로등,\n",
    ":심야용,\n",
    ":전기판매수입\n",
    ")\n",
    "\"\"\"\n",
    "for param in sales_revenue_by_use.to_dict('records'):\n",
    "    conn.execute(text(sql),param)"
   ]
  }
 ],
 "metadata": {
  "kernelspec": {
   "display_name": "Python 3 (ipykernel)",
   "language": "python",
   "name": "python3"
  },
  "language_info": {
   "codemirror_mode": {
    "name": "ipython",
    "version": 3
   },
   "file_extension": ".py",
   "mimetype": "text/x-python",
   "name": "python",
   "nbconvert_exporter": "python",
   "pygments_lexer": "ipython3",
   "version": "3.11.4"
  }
 },
 "nbformat": 4,
 "nbformat_minor": 5
}
