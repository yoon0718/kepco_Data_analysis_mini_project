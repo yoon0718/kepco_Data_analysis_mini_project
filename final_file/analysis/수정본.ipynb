{
 "cells": [
  {
   "cell_type": "code",
   "execution_count": 14,
   "id": "f922480a-46e6-4f03-a535-083c3988f829",
   "metadata": {
    "tags": []
   },
   "outputs": [],
   "source": [
    "import pandas as pd\n",
    "import numpy as np\n",
    "import matplotlib.pyplot as plt\n",
    "from matplotlib.cm import get_cmap\n",
    "plt.rcParams['font.family']='batang'"
   ]
  },
  {
   "cell_type": "code",
   "execution_count": 15,
   "id": "96e6068c-4fa0-4014-b546-f07a7823dc5b",
   "metadata": {
    "tags": []
   },
   "outputs": [],
   "source": [
    "전기생산단가 = pd.read_csv('전기생산단가.csv',encoding='cp949')\n",
    "판매단가 = pd.read_csv('전기판매단가.csv')\n",
    "판매수입 = pd.read_csv('2018~2022 전기 판매 수입.csv')\n",
    "지역전력발전 = pd.read_excel('2018~2021 지역별 발전량.xlsx')"
   ]
  },
  {
   "cell_type": "code",
   "execution_count": 16,
   "id": "ae95a260-b52d-4462-a531-98ced13e051e",
   "metadata": {
    "tags": []
   },
   "outputs": [],
   "source": [
    "pd.options.display.float_format = '{:.5f}'.format"
   ]
  },
  {
   "cell_type": "code",
   "execution_count": 17,
   "id": "88e020e0-13d0-498f-9ab6-6203435b2295",
   "metadata": {
    "tags": []
   },
   "outputs": [
    {
     "name": "stderr",
     "output_type": "stream",
     "text": [
      "C:\\Users\\user\\AppData\\Local\\Temp\\ipykernel_47028\\3265190311.py:3: SettingWithCopyWarning: \n",
      "A value is trying to be set on a copy of a slice from a DataFrame.\n",
      "Try using .loc[row_indexer,col_indexer] = value instead\n",
      "\n",
      "See the caveats in the documentation: https://pandas.pydata.org/pandas-docs/stable/user_guide/indexing.html#returning-a-view-versus-a-copy\n",
      "  전력발전.합계 = 전력발전.합계* 1000\n",
      "C:\\Users\\user\\AppData\\Local\\Temp\\ipykernel_47028\\3265190311.py:5: SettingWithCopyWarning: \n",
      "A value is trying to be set on a copy of a slice from a DataFrame\n",
      "\n",
      "See the caveats in the documentation: https://pandas.pydata.org/pandas-docs/stable/user_guide/indexing.html#returning-a-view-versus-a-copy\n",
      "  전력발전.sort_values(by=['기간'],inplace=True)\n"
     ]
    }
   ],
   "source": [
    "지역전력발전['합계'] = 지역전력발전.sum(axis = 1)\n",
    "전력발전=지역전력발전[['연도','합계']]\n",
    "전력발전.합계 = 전력발전.합계* 1000\n",
    "전력발전.columns=('기간','발전전력량')\n",
    "전력발전.sort_values(by=['기간'],inplace=True)"
   ]
  },
  {
   "cell_type": "code",
   "execution_count": 18,
   "id": "58ed20e7-3e59-4ed6-9b44-375d13e6b3d9",
   "metadata": {
    "tags": []
   },
   "outputs": [],
   "source": [
    "afsd=pd.DataFrame(\n",
    "    {\n",
    "    '기간':[2022],\n",
    "    '발전전력량':[np.nan]\n",
    "    }\n",
    ")\n",
    "전력발전=pd.concat([전력발전,afsd],ignore_index=True)"
   ]
  },
  {
   "cell_type": "code",
   "execution_count": 31,
   "id": "2369b779-d58a-45f9-b0d9-6d9377dd266c",
   "metadata": {
    "tags": []
   },
   "outputs": [
    {
     "data": {
      "text/html": [
       "<div>\n",
       "<style scoped>\n",
       "    .dataframe tbody tr th:only-of-type {\n",
       "        vertical-align: middle;\n",
       "    }\n",
       "\n",
       "    .dataframe tbody tr th {\n",
       "        vertical-align: top;\n",
       "    }\n",
       "\n",
       "    .dataframe thead th {\n",
       "        text-align: right;\n",
       "    }\n",
       "</style>\n",
       "<table border=\"1\" class=\"dataframe\">\n",
       "  <thead>\n",
       "    <tr style=\"text-align: right;\">\n",
       "      <th></th>\n",
       "      <th>기간</th>\n",
       "      <th>발전전력량</th>\n",
       "    </tr>\n",
       "  </thead>\n",
       "  <tbody>\n",
       "    <tr>\n",
       "      <th>0</th>\n",
       "      <td>2018</td>\n",
       "      <td>570648524617.55286</td>\n",
       "    </tr>\n",
       "    <tr>\n",
       "      <th>1</th>\n",
       "      <td>2019</td>\n",
       "      <td>563042323793.87610</td>\n",
       "    </tr>\n",
       "    <tr>\n",
       "      <th>2</th>\n",
       "      <td>2020</td>\n",
       "      <td>552164179000.00000</td>\n",
       "    </tr>\n",
       "    <tr>\n",
       "      <th>3</th>\n",
       "      <td>2021</td>\n",
       "      <td>576811509364.99988</td>\n",
       "    </tr>\n",
       "    <tr>\n",
       "      <th>4</th>\n",
       "      <td>2022</td>\n",
       "      <td>NaN</td>\n",
       "    </tr>\n",
       "  </tbody>\n",
       "</table>\n",
       "</div>"
      ],
      "text/plain": [
       "     기간              발전전력량\n",
       "0  2018 570648524617.55286\n",
       "1  2019 563042323793.87610\n",
       "2  2020 552164179000.00000\n",
       "3  2021 576811509364.99988\n",
       "4  2022                NaN"
      ]
     },
     "execution_count": 31,
     "metadata": {},
     "output_type": "execute_result"
    }
   ],
   "source": [
    "전력발전"
   ]
  },
  {
   "cell_type": "code",
   "execution_count": 19,
   "id": "0a3323da-c8bc-4889-a063-9356950bdf98",
   "metadata": {
    "tags": []
   },
   "outputs": [
    {
     "data": {
      "text/html": [
       "<div>\n",
       "<style scoped>\n",
       "    .dataframe tbody tr th:only-of-type {\n",
       "        vertical-align: middle;\n",
       "    }\n",
       "\n",
       "    .dataframe tbody tr th {\n",
       "        vertical-align: top;\n",
       "    }\n",
       "\n",
       "    .dataframe thead th {\n",
       "        text-align: right;\n",
       "    }\n",
       "</style>\n",
       "<table border=\"1\" class=\"dataframe\">\n",
       "  <thead>\n",
       "    <tr style=\"text-align: right;\">\n",
       "      <th></th>\n",
       "      <th>기간</th>\n",
       "      <th>단가평균</th>\n",
       "    </tr>\n",
       "  </thead>\n",
       "  <tbody>\n",
       "    <tr>\n",
       "      <th>6</th>\n",
       "      <td>2018</td>\n",
       "      <td>90</td>\n",
       "    </tr>\n",
       "    <tr>\n",
       "      <th>5</th>\n",
       "      <td>2019</td>\n",
       "      <td>89</td>\n",
       "    </tr>\n",
       "    <tr>\n",
       "      <th>4</th>\n",
       "      <td>2020</td>\n",
       "      <td>80</td>\n",
       "    </tr>\n",
       "    <tr>\n",
       "      <th>3</th>\n",
       "      <td>2021</td>\n",
       "      <td>95</td>\n",
       "    </tr>\n",
       "    <tr>\n",
       "      <th>2</th>\n",
       "      <td>2022</td>\n",
       "      <td>153</td>\n",
       "    </tr>\n",
       "  </tbody>\n",
       "</table>\n",
       "</div>"
      ],
      "text/plain": [
       "     기간  단가평균\n",
       "6  2018    90\n",
       "5  2019    89\n",
       "4  2020    80\n",
       "3  2021    95\n",
       "2  2022   153"
      ]
     },
     "execution_count": 19,
     "metadata": {},
     "output_type": "execute_result"
    }
   ],
   "source": [
    "전기생산단가1 = 전기생산단가.loc[2:6,:]\n",
    "전기생산단가2 = 전기생산단가1.drop(전기생산단가1.iloc[:,1:18],axis=1)\n",
    "전기생산단가3 = 전기생산단가2.loc[1:, :]\n",
    "전기생산단가 = pd.DataFrame(전기생산단가3)\n",
    "전기생산단가 = 전기생산단가.astype(int)\n",
    "전기생산단가.sort_values(by=['기간'],inplace=True)\n",
    "전기생산단가.columns=('기간','단가평균')\n",
    "전기생산단가"
   ]
  },
  {
   "cell_type": "code",
   "execution_count": 20,
   "id": "21f064eb-4bc2-40b2-bf7f-9564b9861449",
   "metadata": {
    "tags": []
   },
   "outputs": [
    {
     "data": {
      "text/html": [
       "<div>\n",
       "<style scoped>\n",
       "    .dataframe tbody tr th:only-of-type {\n",
       "        vertical-align: middle;\n",
       "    }\n",
       "\n",
       "    .dataframe tbody tr th {\n",
       "        vertical-align: top;\n",
       "    }\n",
       "\n",
       "    .dataframe thead th {\n",
       "        text-align: right;\n",
       "    }\n",
       "</style>\n",
       "<table border=\"1\" class=\"dataframe\">\n",
       "  <thead>\n",
       "    <tr style=\"text-align: right;\">\n",
       "      <th></th>\n",
       "      <th>기간</th>\n",
       "      <th>평균금액</th>\n",
       "    </tr>\n",
       "  </thead>\n",
       "  <tbody>\n",
       "    <tr>\n",
       "      <th>4</th>\n",
       "      <td>2018</td>\n",
       "      <td>108</td>\n",
       "    </tr>\n",
       "    <tr>\n",
       "      <th>3</th>\n",
       "      <td>2019</td>\n",
       "      <td>108</td>\n",
       "    </tr>\n",
       "    <tr>\n",
       "      <th>2</th>\n",
       "      <td>2020</td>\n",
       "      <td>109</td>\n",
       "    </tr>\n",
       "    <tr>\n",
       "      <th>1</th>\n",
       "      <td>2021</td>\n",
       "      <td>108</td>\n",
       "    </tr>\n",
       "    <tr>\n",
       "      <th>0</th>\n",
       "      <td>2022</td>\n",
       "      <td>120</td>\n",
       "    </tr>\n",
       "  </tbody>\n",
       "</table>\n",
       "</div>"
      ],
      "text/plain": [
       "     기간  평균금액\n",
       "4  2018   108\n",
       "3  2019   108\n",
       "2  2020   109\n",
       "1  2021   108\n",
       "0  2022   120"
      ]
     },
     "execution_count": 20,
     "metadata": {},
     "output_type": "execute_result"
    }
   ],
   "source": [
    "판매단가 = 판매단가.astype(int)\n",
    "판매단가.sort_values(by=['기간'],inplace=True)\n",
    "판매단가"
   ]
  },
  {
   "cell_type": "code",
   "execution_count": 21,
   "id": "e4e7d8ab-f73e-47e7-80f5-022a5d91ed92",
   "metadata": {
    "tags": []
   },
   "outputs": [
    {
     "data": {
      "text/html": [
       "<div>\n",
       "<style scoped>\n",
       "    .dataframe tbody tr th:only-of-type {\n",
       "        vertical-align: middle;\n",
       "    }\n",
       "\n",
       "    .dataframe tbody tr th {\n",
       "        vertical-align: top;\n",
       "    }\n",
       "\n",
       "    .dataframe thead th {\n",
       "        text-align: right;\n",
       "    }\n",
       "</style>\n",
       "<table border=\"1\" class=\"dataframe\">\n",
       "  <thead>\n",
       "    <tr style=\"text-align: right;\">\n",
       "      <th></th>\n",
       "      <th>기간</th>\n",
       "      <th>금액</th>\n",
       "    </tr>\n",
       "  </thead>\n",
       "  <tbody>\n",
       "    <tr>\n",
       "      <th>0</th>\n",
       "      <td>2018</td>\n",
       "      <td>57217586406000</td>\n",
       "    </tr>\n",
       "    <tr>\n",
       "      <th>1</th>\n",
       "      <td>2019</td>\n",
       "      <td>56556500292000</td>\n",
       "    </tr>\n",
       "    <tr>\n",
       "      <th>2</th>\n",
       "      <td>2020</td>\n",
       "      <td>55918578210000</td>\n",
       "    </tr>\n",
       "    <tr>\n",
       "      <th>3</th>\n",
       "      <td>2021</td>\n",
       "      <td>57671487528000</td>\n",
       "    </tr>\n",
       "    <tr>\n",
       "      <th>4</th>\n",
       "      <td>2022</td>\n",
       "      <td>66030084285000</td>\n",
       "    </tr>\n",
       "  </tbody>\n",
       "</table>\n",
       "</div>"
      ],
      "text/plain": [
       "     기간              금액\n",
       "0  2018  57217586406000\n",
       "1  2019  56556500292000\n",
       "2  2020  55918578210000\n",
       "3  2021  57671487528000\n",
       "4  2022  66030084285000"
      ]
     },
     "execution_count": 21,
     "metadata": {},
     "output_type": "execute_result"
    }
   ],
   "source": [
    "판매수입2 = 판매수입.loc[:,['2018','2019','2020','2021','2022']]\n",
    "판매수입3 = 판매수입2.loc[2,:]\n",
    "판매수입=pd.DataFrame(판매수입3)\n",
    "판매수입.reset_index(inplace=True)\n",
    "판매수입.columns=(['기간','금액'])\n",
    "판매수입=판매수입.astype('int64')\n",
    "판매수입.금액 = 판매수입.금액 * 1000\n",
    "판매수입.sort_values(by=['기간'],inplace=True)\n",
    "판매수입"
   ]
  },
  {
   "cell_type": "code",
   "execution_count": 22,
   "id": "0823567d-eaa6-459c-828c-878e824d808f",
   "metadata": {
    "tags": []
   },
   "outputs": [
    {
     "data": {
      "text/html": [
       "<div>\n",
       "<style scoped>\n",
       "    .dataframe tbody tr th:only-of-type {\n",
       "        vertical-align: middle;\n",
       "    }\n",
       "\n",
       "    .dataframe tbody tr th {\n",
       "        vertical-align: top;\n",
       "    }\n",
       "\n",
       "    .dataframe thead th {\n",
       "        text-align: right;\n",
       "    }\n",
       "</style>\n",
       "<table border=\"1\" class=\"dataframe\">\n",
       "  <thead>\n",
       "    <tr style=\"text-align: right;\">\n",
       "      <th></th>\n",
       "      <th>기간</th>\n",
       "      <th>발전전력량</th>\n",
       "      <th>단가평균</th>\n",
       "      <th>발전비용</th>\n",
       "    </tr>\n",
       "  </thead>\n",
       "  <tbody>\n",
       "    <tr>\n",
       "      <th>0</th>\n",
       "      <td>2018</td>\n",
       "      <td>570648524617.55286</td>\n",
       "      <td>90</td>\n",
       "      <td>51358367215579.75781</td>\n",
       "    </tr>\n",
       "    <tr>\n",
       "      <th>1</th>\n",
       "      <td>2019</td>\n",
       "      <td>563042323793.87610</td>\n",
       "      <td>89</td>\n",
       "      <td>50110766817654.97656</td>\n",
       "    </tr>\n",
       "    <tr>\n",
       "      <th>2</th>\n",
       "      <td>2020</td>\n",
       "      <td>552164179000.00000</td>\n",
       "      <td>80</td>\n",
       "      <td>44173134320000.00000</td>\n",
       "    </tr>\n",
       "    <tr>\n",
       "      <th>3</th>\n",
       "      <td>2021</td>\n",
       "      <td>576811509364.99988</td>\n",
       "      <td>95</td>\n",
       "      <td>54797093389674.99219</td>\n",
       "    </tr>\n",
       "    <tr>\n",
       "      <th>4</th>\n",
       "      <td>2022</td>\n",
       "      <td>NaN</td>\n",
       "      <td>153</td>\n",
       "      <td>NaN</td>\n",
       "    </tr>\n",
       "  </tbody>\n",
       "</table>\n",
       "</div>"
      ],
      "text/plain": [
       "     기간              발전전력량  단가평균                 발전비용\n",
       "0  2018 570648524617.55286    90 51358367215579.75781\n",
       "1  2019 563042323793.87610    89 50110766817654.97656\n",
       "2  2020 552164179000.00000    80 44173134320000.00000\n",
       "3  2021 576811509364.99988    95 54797093389674.99219\n",
       "4  2022                NaN   153                  NaN"
      ]
     },
     "execution_count": 22,
     "metadata": {},
     "output_type": "execute_result"
    }
   ],
   "source": [
    "total = pd.merge(전력발전, 전기생산단가, on='기간', how='left')\n",
    "total['발전비용'] = total['발전전력량'] * total['단가평균']\n",
    "total"
   ]
  },
  {
   "cell_type": "code",
   "execution_count": 25,
   "id": "9dbb8e02-58eb-474a-a794-4a9adef04cb4",
   "metadata": {
    "tags": []
   },
   "outputs": [
    {
     "data": {
      "text/html": [
       "<div>\n",
       "<style scoped>\n",
       "    .dataframe tbody tr th:only-of-type {\n",
       "        vertical-align: middle;\n",
       "    }\n",
       "\n",
       "    .dataframe tbody tr th {\n",
       "        vertical-align: top;\n",
       "    }\n",
       "\n",
       "    .dataframe thead th {\n",
       "        text-align: right;\n",
       "    }\n",
       "</style>\n",
       "<table border=\"1\" class=\"dataframe\">\n",
       "  <thead>\n",
       "    <tr style=\"text-align: right;\">\n",
       "      <th></th>\n",
       "      <th>기간</th>\n",
       "      <th>발전비용</th>\n",
       "    </tr>\n",
       "  </thead>\n",
       "  <tbody>\n",
       "    <tr>\n",
       "      <th>0</th>\n",
       "      <td>2018</td>\n",
       "      <td>51358367215579.75781</td>\n",
       "    </tr>\n",
       "    <tr>\n",
       "      <th>1</th>\n",
       "      <td>2019</td>\n",
       "      <td>50110766817654.97656</td>\n",
       "    </tr>\n",
       "    <tr>\n",
       "      <th>2</th>\n",
       "      <td>2020</td>\n",
       "      <td>44173134320000.00000</td>\n",
       "    </tr>\n",
       "    <tr>\n",
       "      <th>3</th>\n",
       "      <td>2021</td>\n",
       "      <td>54797093389674.99219</td>\n",
       "    </tr>\n",
       "  </tbody>\n",
       "</table>\n",
       "</div>"
      ],
      "text/plain": [
       "     기간                 발전비용\n",
       "0  2018 51358367215579.75781\n",
       "1  2019 50110766817654.97656\n",
       "2  2020 44173134320000.00000\n",
       "3  2021 54797093389674.99219"
      ]
     },
     "execution_count": 25,
     "metadata": {},
     "output_type": "execute_result"
    }
   ],
   "source": [
    "발전비용 = pd.DataFrame(전력발전.발전전력량*total.단가평균)\n",
    "발전비용.columns=(['발전비용'])\n",
    "발전비용.insert(0,'기간',['2018','2019','2020','2021','2022'])\n",
    "발전비용 = 발전비용.iloc[0:4,:]\n",
    "발전비용"
   ]
  },
  {
   "cell_type": "code",
   "execution_count": 26,
   "id": "cc6ce710-ec65-4ef7-a799-2f95138ce0bb",
   "metadata": {
    "tags": []
   },
   "outputs": [
    {
     "data": {
      "text/html": [
       "<div>\n",
       "<style scoped>\n",
       "    .dataframe tbody tr th:only-of-type {\n",
       "        vertical-align: middle;\n",
       "    }\n",
       "\n",
       "    .dataframe tbody tr th {\n",
       "        vertical-align: top;\n",
       "    }\n",
       "\n",
       "    .dataframe thead th {\n",
       "        text-align: right;\n",
       "    }\n",
       "</style>\n",
       "<table border=\"1\" class=\"dataframe\">\n",
       "  <thead>\n",
       "    <tr style=\"text-align: right;\">\n",
       "      <th></th>\n",
       "      <th>기간</th>\n",
       "      <th>손해금액</th>\n",
       "    </tr>\n",
       "  </thead>\n",
       "  <tbody>\n",
       "    <tr>\n",
       "      <th>0</th>\n",
       "      <td>2018</td>\n",
       "      <td>5859219190420.24219</td>\n",
       "    </tr>\n",
       "    <tr>\n",
       "      <th>1</th>\n",
       "      <td>2019</td>\n",
       "      <td>6445733474345.02344</td>\n",
       "    </tr>\n",
       "    <tr>\n",
       "      <th>2</th>\n",
       "      <td>2020</td>\n",
       "      <td>11745443890000.00000</td>\n",
       "    </tr>\n",
       "    <tr>\n",
       "      <th>3</th>\n",
       "      <td>2021</td>\n",
       "      <td>2874394138325.00781</td>\n",
       "    </tr>\n",
       "  </tbody>\n",
       "</table>\n",
       "</div>"
      ],
      "text/plain": [
       "     기간                 손해금액\n",
       "0  2018  5859219190420.24219\n",
       "1  2019  6445733474345.02344\n",
       "2  2020 11745443890000.00000\n",
       "3  2021  2874394138325.00781"
      ]
     },
     "execution_count": 26,
     "metadata": {},
     "output_type": "execute_result"
    }
   ],
   "source": [
    "차익 = pd.DataFrame(판매수입.금액-발전비용.발전비용)\n",
    "차익.columns=(['손해금액'])\n",
    "차익.insert(0,'기간',['2018','2019','2020','2021','2022'])\n",
    "차익 = 차익.iloc[0:4,:]\n",
    "차익\n"
   ]
  },
  {
   "cell_type": "code",
   "execution_count": 32,
   "id": "e9c3bf04-e7bd-43c0-9237-8a565ec3632e",
   "metadata": {
    "tags": []
   },
   "outputs": [],
   "source": [
    "판매수입['금액'] = 판매수입['금액'].astype('int64')\n",
    "차익['손해금액'] = 차익['손해금액'].astype('int64')\n",
    "차익['기간'] = 차익['기간'].astype('int64')"
   ]
  },
  {
   "cell_type": "code",
   "execution_count": 33,
   "id": "a2f5876c-c087-4337-99f1-1f7baac0f5e4",
   "metadata": {
    "tags": []
   },
   "outputs": [
    {
     "data": {
      "image/png": "[encoded data removed]",
      "text/plain": [
       "<Figure size 600x600 with 1 Axes>"
      ]
     },
     "metadata": {},
     "output_type": "display_data"
    }
   ],
   "source": [
    "plt.figure(figsize=(6,6))\n",
    "plt.plot(전기생산단가['기간'],전기생산단가['단가평균'],alpha= 1,label='생산평균금액')\n",
    "plt.plot(판매단가['기간'],판매단가['평균금액'],alpha= 1,label='판매평균금액')\n",
    "plt.legend()\n",
    "plt.show()"
   ]
  },
  {
   "cell_type": "code",
   "execution_count": 34,
   "id": "7f2630d8-00f1-4d01-9ae1-d5d1b810b2ec",
   "metadata": {
    "tags": []
   },
   "outputs": [
    {
     "data": {
      "image/png": "[encoded data removed]",
      "text/plain": [
       "<Figure size 600x600 with 1 Axes>"
      ]
     },
     "metadata": {},
     "output_type": "display_data"
    }
   ],
   "source": [
    "plt.figure(figsize=(6, 6))\n",
    "plt.bar(전기생산단가['기간']-0.1, 전기생산단가['단가평균'], alpha=1, label='생산평균금액', width=0.2)\n",
    "plt.bar(판매단가['기간']+0.1, 판매단가['평균금액'], alpha=1, label='판매평균금액', width= 0.2)\n",
    "plt.legend()\n",
    "plt.xlabel('기간',loc='right')\n",
    "plt.ylabel('평균금액', fontsize=10, rotation=0,loc='top')\n",
    "plt.title('생산과 판매금액비교',fontsize=15)\n",
    "plt.show()"
   ]
  },
  {
   "cell_type": "code",
   "execution_count": 33,
   "id": "4b972b70-9dec-437f-8ee4-5934e4f81c27",
   "metadata": {
    "tags": []
   },
   "outputs": [
    {
     "data": {
      "image/png": "[encoded data removed]",
      "text/plain": [
       "<Figure size 800x800 with 1 Axes>"
      ]
     },
     "metadata": {},
     "output_type": "display_data"
    }
   ],
   "source": [
    "plt.figure(figsize=(8, 8))\n",
    "plt.bar(판매수입['기간'], 판매수입['금액'], alpha=1, label='판매수입')\n",
    "plt.legend()\n",
    "plt.xlabel('기간')\n",
    "plt.ylabel('금액(단위10조)', fontsize=10, rotation=0, loc='top')\n",
    "plt.show()"
   ]
  },
  {
   "cell_type": "code",
   "execution_count": 34,
   "id": "e22127b9-0130-498c-b0fb-a3547f2e4741",
   "metadata": {
    "tags": []
   },
   "outputs": [
    {
     "data": {
      "image/png": "[encoded data removed]",
      "text/plain": [
       "<Figure size 800x800 with 1 Axes>"
      ]
     },
     "metadata": {},
     "output_type": "display_data"
    }
   ],
   "source": [
    "plt.figure(figsize=(8, 8))\n",
    "plt.bar(차익['기간'],차익['손해금액'], alpha=1, label='손해금액')\n",
    "plt.legend()\n",
    "plt.xlabel('기간')\n",
    "plt.ylabel('금액(단위10조)', fontsize=10, rotation=0, loc='top')\n",
    "plt.show()"
   ]
  },
  {
   "cell_type": "code",
   "execution_count": 37,
   "id": "d504caa8-c6e4-4147-b05b-df1344038548",
   "metadata": {
    "tags": []
   },
   "outputs": [],
   "source": [
    "판매수입['금액'] = 판매수입['금액'].astype('int64')\n",
    "차익['손해금액'] = 차익['손해금액'].astype('int64')\n",
    "차익['기간'] = 차익['기간'].astype('int64')"
   ]
  },
  {
   "cell_type": "code",
   "execution_count": 38,
   "id": "256d9d46-f168-4aed-a49d-17d809cc0b06",
   "metadata": {
    "tags": []
   },
   "outputs": [
    {
     "data": {
      "image/png": "[encoded data removed]",
      "text/plain": [
       "<Figure size 640x480 with 1 Axes>"
      ]
     },
     "metadata": {},
     "output_type": "display_data"
    }
   ],
   "source": [
    "plt.bar(판매수입['기간'] - 0.1, 판매수입['금액'], alpha=1, label='판매수입', width=0.2)\n",
    "plt.bar(차익['기간'] + 0.1, 차익['손해금액'], alpha=1, label='손해금액', width=0.2)\n",
    "plt.legend()\n",
    "plt.xlabel('기간')\n",
    "plt.ylabel('금액(단위10조)', fontsize=10, rotation=0, loc='top')\n",
    "plt.xlabel('기간', loc='right')\n",
    "plt.show()"
   ]
  },
  {
   "cell_type": "code",
   "execution_count": null,
   "id": "9b464b82-6ac9-4745-b70e-36762094d875",
   "metadata": {},
   "outputs": [],
   "source": []
  },
  {
   "cell_type": "code",
   "execution_count": null,
   "id": "153eb733-f7aa-41aa-973a-0fe17ccc2aa5",
   "metadata": {},
   "outputs": [],
   "source": []
  }
 ],
 "metadata": {
  "kernelspec": {
   "display_name": "Python 3 (ipykernel)",
   "language": "python",
   "name": "python3"
  },
  "language_info": {
   "codemirror_mode": {
    "name": "ipython",
    "version": 3
   },
   "file_extension": ".py",
   "mimetype": "text/x-python",
   "name": "python",
   "nbconvert_exporter": "python",
   "pygments_lexer": "ipython3",
   "version": "3.11.4"
  }
 },
 "nbformat": 4,
 "nbformat_minor": 5
}
